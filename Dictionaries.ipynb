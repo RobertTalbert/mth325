{
 "metadata": {
  "name": ""
 },
 "nbformat": 3,
 "nbformat_minor": 0,
 "worksheets": [
  {
   "cells": [
    {
     "cell_type": "markdown",
     "metadata": {},
     "source": [
      "This is a quick show-and-tell demo about how to use dictionaries in Python. This demo is not enough background to get you through the third problem on Assignment 3, however -- these are just additional examples to help you manage your way through a tutorial from *Learn Python the Hard Way* or some other source. \n",
      "\n",
      "Before we get into that, if you are wondering how to insert text like this into an iPython notebook, look up at the menu bar. There is a pulldown menu to the left of where it says \"Cell Toolbar\". In that pulldown menu are several options for how you want to format a cell in this iPython notebook. For coding, you'll want to keep it at the default of \"code\". But you can also select headings, markdown, or plain text. The cell you are currently reading is Markdown. You can learn more about markdown [here](http://daringfireball.net/projects/markdown/syntax). Or you can always double-click on a cell like this and it will take you to the raw Markdown used to generate it. This is very handy for creating nicely-formatted Python notebooks. The same thing in a Sage notebook is accomplished by putting `%md` at the top of a cell and then typing, and then hitting shift-enter to evaluate the Markdown. \n",
      "\n",
      "To work through this tutorial, just Shift-Enter in each \"In\" cell to evaluate the code there. "
     ]
    },
    {
     "cell_type": "heading",
     "level": 2,
     "metadata": {},
     "source": [
      "Dictionary syntax"
     ]
    },
    {
     "cell_type": "markdown",
     "metadata": {},
     "source": [
      "A dictionary in Python is a generalized data structure that associates stuff with other stuff. In technical terms it is known as a hash table. But you do not need to know anything about that. \n",
      "\n",
      "For example, here is a very simple dictionary that associates states in the USA with universities located in them: "
     ]
    },
    {
     "cell_type": "code",
     "collapsed": false,
     "input": [
      "universities = {\"Michigan\" : \"GVSU\", \"Indiana\" : \"Purdue\", \"Ohio\" : \"Ohio State\", \"Tennessee\" : \"Vanderbilt\"}"
     ],
     "language": "python",
     "metadata": {},
     "outputs": [],
     "prompt_number": 2
    },
    {
     "cell_type": "markdown",
     "metadata": {},
     "source": [
      "The whole dictionary is encased in curly braces `{ }`. Each entry in the dictionary consists of two parts: The **key** and its **values**. For example, the key `Michigan` (which here is a string) is associated with the value `GVSU` (also a string), just like you might look something up in a real dictionary or a listing of schools by state. There is a colon `:` between each key and its values. "
     ]
    },
    {
     "cell_type": "heading",
     "level": 2,
     "metadata": {},
     "source": [
      "Dictionaries use all kinds of stuff"
     ]
    },
    {
     "cell_type": "markdown",
     "metadata": {},
     "source": [
      "Here is a slightly more complicated version of the dictionary above that shows you can associate more than one item with each key. Here, each state is associated with a **list** of universities in that state: "
     ]
    },
    {
     "cell_type": "code",
     "collapsed": false,
     "input": [
      "univ2 = { \"Michigan\" : [\"GVSU\", \"Michigan State\", \"Hope College\"], \"Indiana\" : [\"Purdue\", \"IUPUI\", \"Notre Dame\"], \"Ohio\" : [\"Ohio State\", \"Cincinnati\"], \"Tennessee\" : [\"Vanderbilt\", \"Tennessee Tech\"] } "
     ],
     "language": "python",
     "metadata": {},
     "outputs": [],
     "prompt_number": 3
    },
    {
     "cell_type": "markdown",
     "metadata": {},
     "source": [
      "You can use **any data type whatsoever in a dictionary**. For example, here's a dictionary that takes some words and associates them with a list containing the length of the word (an integer) and a word that rhymes with it (a string): "
     ]
    },
    {
     "cell_type": "code",
     "collapsed": false,
     "input": [
      "words = { \"cat\" : [3, \"bat\"], \"glass\" : [5, \"bass\"], \"orange\" : [6] } "
     ],
     "language": "python",
     "metadata": {},
     "outputs": [],
     "prompt_number": 12
    },
    {
     "cell_type": "markdown",
     "metadata": {},
     "source": [
      "Note that the last key's value only has a length in it, because nothing rhymes with \"orange\". "
     ]
    },
    {
     "cell_type": "heading",
     "level": 2,
     "metadata": {},
     "source": [
      "Accessing stuff in lists"
     ]
    },
    {
     "cell_type": "markdown",
     "metadata": {},
     "source": [
      "Entries of lists are accessed by referencing their keys, kind of like you would do with a list except you do not give a position number but rather the actual key: "
     ]
    },
    {
     "cell_type": "code",
     "collapsed": false,
     "input": [
      "universities[\"Indiana\"]"
     ],
     "language": "python",
     "metadata": {},
     "outputs": [
      {
       "metadata": {},
       "output_type": "pyout",
       "prompt_number": 5,
       "text": [
        "'Purdue'"
       ]
      }
     ],
     "prompt_number": 5
    },
    {
     "cell_type": "code",
     "collapsed": false,
     "input": [
      "univ2[\"Tennessee\"]"
     ],
     "language": "python",
     "metadata": {},
     "outputs": [
      {
       "metadata": {},
       "output_type": "pyout",
       "prompt_number": 6,
       "text": [
        "['Vanderbilt', 'Tennessee Tech']"
       ]
      }
     ],
     "prompt_number": 6
    },
    {
     "cell_type": "markdown",
     "metadata": {},
     "source": [
      "You can even loop over the items in a dictionary by iterating through the keys: "
     ]
    },
    {
     "cell_type": "code",
     "collapsed": false,
     "input": [
      "for state in universities:\n",
      "    print universities[state]"
     ],
     "language": "python",
     "metadata": {},
     "outputs": [
      {
       "output_type": "stream",
       "stream": "stdout",
       "text": [
        "Purdue\n",
        "GVSU\n",
        "Vanderbilt\n",
        "Ohio State\n"
       ]
      }
     ],
     "prompt_number": 8
    },
    {
     "cell_type": "code",
     "collapsed": false,
     "input": [
      "# This loop prints out the number of universities associated with each key, rather than the name:\n",
      "for state in univ2:\n",
      "    print len(univ2[state])"
     ],
     "language": "python",
     "metadata": {},
     "outputs": [
      {
       "output_type": "stream",
       "stream": "stdout",
       "text": [
        "3\n",
        "3\n",
        "2\n",
        "2\n"
       ]
      }
     ],
     "prompt_number": 10
    },
    {
     "cell_type": "code",
     "collapsed": false,
     "input": [
      "for word in words: \n",
      "    print \"The word '\", word, \"' is\", (words[word])[0], \"letters long.\""
     ],
     "language": "python",
     "metadata": {},
     "outputs": [
      {
       "output_type": "stream",
       "stream": "stdout",
       "text": [
        "The word ' orange ' is 6 letters long.\n",
        "The word ' glass ' is 5 letters long.\n",
        "The word ' cat ' is 3 letters long.\n"
       ]
      }
     ],
     "prompt_number": 24
    },
    {
     "cell_type": "markdown",
     "metadata": {},
     "source": [
      "Did you catch what that last loop did? For each key in `words`, the value `words[word]` is a list. What are we doing when we type `(words[word])[0]`? "
     ]
    },
    {
     "cell_type": "heading",
     "level": 2,
     "metadata": {},
     "source": [
      "Adding stuff to dictionaries"
     ]
    },
    {
     "cell_type": "markdown",
     "metadata": {},
     "source": [
      "You can add a new entry to a dictionary just by giving the key and the values associated with it. For example, let's add Kentucky to the `univ2` dictionary along with a list of schools in Kentucky: "
     ]
    },
    {
     "cell_type": "code",
     "collapsed": false,
     "input": [
      "univ2[\"Kentucky\"] = [\"Louisville\", \"UK\", \"Western Kentucky\"]"
     ],
     "language": "python",
     "metadata": {},
     "outputs": [],
     "prompt_number": 20
    },
    {
     "cell_type": "markdown",
     "metadata": {},
     "source": [
      "Now call `univ2` and note that it's been added: "
     ]
    },
    {
     "cell_type": "code",
     "collapsed": false,
     "input": [
      "univ2"
     ],
     "language": "python",
     "metadata": {},
     "outputs": [
      {
       "metadata": {},
       "output_type": "pyout",
       "prompt_number": 21,
       "text": [
        "{'Indiana': ['Purdue', 'IUPUI', 'Notre Dame'],\n",
        " 'Kentucky': ['Louisville', 'UK', 'Western Kentucky'],\n",
        " 'Michigan': ['GVSU', 'Michigan State', 'Hope College'],\n",
        " 'Ohio': ['Ohio State', 'Cincinnati'],\n",
        " 'Tennessee': ['Vanderbilt', 'Tennessee Tech']}"
       ]
      }
     ],
     "prompt_number": 21
    },
    {
     "cell_type": "code",
     "collapsed": false,
     "input": [
      "for state in univ2:\n",
      "    print univ2[state]"
     ],
     "language": "python",
     "metadata": {},
     "outputs": [
      {
       "output_type": "stream",
       "stream": "stdout",
       "text": [
        "['Purdue', 'IUPUI', 'Notre Dame']\n",
        "['GVSU', 'Michigan State', 'Hope College']\n",
        "['Vanderbilt', 'Tennessee Tech']\n",
        "['Louisville', 'UK', 'Western Kentucky']\n",
        "['Ohio State', 'Cincinnati']\n"
       ]
      }
     ],
     "prompt_number": 22
    },
    {
     "cell_type": "markdown",
     "metadata": {},
     "source": [
      "Note that the ordering is a little strange. When we printed the `univ2` dictionary, it put the keys in alphabetical order. But the loop did not iterate through the keys in the same order."
     ]
    },
    {
     "cell_type": "markdown",
     "metadata": {},
     "source": [
      "Again, this is not a full-blown tutorial and you should really be working through [Lesson 39 of LPTHW](http://learnpythonthehardway.org/book/ex39.html) or some equivalent. "
     ]
    },
    {
     "cell_type": "code",
     "collapsed": false,
     "input": [],
     "language": "python",
     "metadata": {},
     "outputs": []
    }
   ],
   "metadata": {}
  }
 ]
}