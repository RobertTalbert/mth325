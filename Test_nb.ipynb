{
 "cells": [
  {
   "cell_type": "markdown",
   "metadata": {},
   "source": [
    "This is a text cell with some LaTeX in it: \n",
    "\n",
    "$$\\frac{1}{1 + \\frac{1}{1+1}}$$\n",
    "\n",
    "# This is a heading\n",
    "\n",
    "## This is a smaller heading\n",
    "\n",
    "Now some ~text~ words \n",
    "\n",
    "+ Bullet\n",
    "+ Bullet"
   ]
  },
  {
   "cell_type": "code",
   "execution_count": null,
   "metadata": {
    "collapsed": true
   },
   "outputs": [],
   "source": []
  }
 ],
 "metadata": {
  "kernelspec": {
   "display_name": "Python 2",
   "language": "python",
   "name": "python2"
  },
  "language_info": {
   "codemirror_mode": {
    "name": "ipython",
    "version": 2
   },
   "file_extension": ".py",
   "mimetype": "text/x-python",
   "name": "python",
   "nbconvert_exporter": "python",
   "pygments_lexer": "ipython2",
   "version": "2.7.10"
  }
 },
 "nbformat": 4,
 "nbformat_minor": 0
}
